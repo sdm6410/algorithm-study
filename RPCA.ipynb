{
 "cells": [
  {
   "cell_type": "code",
   "execution_count": 1,
   "id": "b6360a07",
   "metadata": {},
   "outputs": [],
   "source": [
    "import keras\n",
    "import os\n",
    "from matplotlib import pyplot as plt\n",
    "import numpy as np\n",
    "import gzip\n",
    "%matplotlib inline\n",
    "from keras.models import Model\n",
    "from tensorflow.keras.optimizers import Adam\n",
    "from tensorflow.keras.optimizers import RMSprop\n",
    "from tensorflow.keras.optimizers import Adadelta\n",
    "from keras import optimizers\n",
    "from keras.layers import Input,Dense,Flatten,Dropout,merge,Reshape,Conv2D,MaxPooling2D,UpSampling2D,Conv2DTranspose,BatchNormalization\n",
    "from tensorflow.keras.layers import BatchNormalization\n",
    "from keras.models import Model,Sequential\n",
    "from keras.callbacks import ModelCheckpoint ,EarlyStopping\n",
    "from keras import regularizers\n",
    "from keras import backend as K\n",
    "from tensorflow.keras.utils import to_categorical\n",
    "from sklearn.preprocessing import StandardScaler,MinMaxScaler ,QuantileTransformer, PowerTransformer,RobustScaler, Normalizer\n",
    "import seaborn as sns"
   ]
  },
  {
   "cell_type": "code",
   "execution_count": 2,
   "id": "08094171",
   "metadata": {},
   "outputs": [],
   "source": [
    "import pandas as pd\n",
    "import matplotlib.pyplot as plt\n",
    "\n",
    "data = pd.read_csv(\"DHCP.csv\") #원본 데이터\n",
    "#answer = pd.read_csv(\"PCA_drop980_155.csv\")"
   ]
  },
  {
   "cell_type": "code",
   "execution_count": 3,
   "id": "9dc31a1b",
   "metadata": {},
   "outputs": [
    {
     "data": {
      "text/html": [
       "<div>\n",
       "<style scoped>\n",
       "    .dataframe tbody tr th:only-of-type {\n",
       "        vertical-align: middle;\n",
       "    }\n",
       "\n",
       "    .dataframe tbody tr th {\n",
       "        vertical-align: top;\n",
       "    }\n",
       "\n",
       "    .dataframe thead th {\n",
       "        text-align: right;\n",
       "    }\n",
       "</style>\n",
       "<table border=\"1\" class=\"dataframe\">\n",
       "  <thead>\n",
       "    <tr style=\"text-align: right;\">\n",
       "      <th></th>\n",
       "      <th>Timestamp</th>\n",
       "      <th>Svr_detect</th>\n",
       "      <th>Svr_connect</th>\n",
       "      <th>Ss_request</th>\n",
       "      <th>Ss_Established</th>\n",
       "    </tr>\n",
       "  </thead>\n",
       "  <tbody>\n",
       "    <tr>\n",
       "      <th>0</th>\n",
       "      <td>20210101_0000-0010</td>\n",
       "      <td>0.0</td>\n",
       "      <td>0.0</td>\n",
       "      <td>5.0</td>\n",
       "      <td>8.0</td>\n",
       "    </tr>\n",
       "    <tr>\n",
       "      <th>1</th>\n",
       "      <td>20210101_0010-0020</td>\n",
       "      <td>0.0</td>\n",
       "      <td>0.0</td>\n",
       "      <td>4.0</td>\n",
       "      <td>14.0</td>\n",
       "    </tr>\n",
       "    <tr>\n",
       "      <th>2</th>\n",
       "      <td>20210101_0020-0030</td>\n",
       "      <td>0.0</td>\n",
       "      <td>0.0</td>\n",
       "      <td>1.0</td>\n",
       "      <td>10.0</td>\n",
       "    </tr>\n",
       "    <tr>\n",
       "      <th>3</th>\n",
       "      <td>20210101_0030-0040</td>\n",
       "      <td>0.0</td>\n",
       "      <td>0.0</td>\n",
       "      <td>1.0</td>\n",
       "      <td>14.0</td>\n",
       "    </tr>\n",
       "    <tr>\n",
       "      <th>4</th>\n",
       "      <td>20210101_0040-0050</td>\n",
       "      <td>0.0</td>\n",
       "      <td>0.0</td>\n",
       "      <td>2.0</td>\n",
       "      <td>9.0</td>\n",
       "    </tr>\n",
       "    <tr>\n",
       "      <th>...</th>\n",
       "      <td>...</td>\n",
       "      <td>...</td>\n",
       "      <td>...</td>\n",
       "      <td>...</td>\n",
       "      <td>...</td>\n",
       "    </tr>\n",
       "    <tr>\n",
       "      <th>52555</th>\n",
       "      <td>20211231_2310-2320</td>\n",
       "      <td>0.0</td>\n",
       "      <td>2.0</td>\n",
       "      <td>5.0</td>\n",
       "      <td>15.0</td>\n",
       "    </tr>\n",
       "    <tr>\n",
       "      <th>52556</th>\n",
       "      <td>20211231_2320-2330</td>\n",
       "      <td>0.0</td>\n",
       "      <td>4.0</td>\n",
       "      <td>4.0</td>\n",
       "      <td>15.0</td>\n",
       "    </tr>\n",
       "    <tr>\n",
       "      <th>52557</th>\n",
       "      <td>20211231_2330-2340</td>\n",
       "      <td>0.0</td>\n",
       "      <td>2.0</td>\n",
       "      <td>3.0</td>\n",
       "      <td>14.0</td>\n",
       "    </tr>\n",
       "    <tr>\n",
       "      <th>52558</th>\n",
       "      <td>20211231_2340-2350</td>\n",
       "      <td>0.0</td>\n",
       "      <td>3.0</td>\n",
       "      <td>2.0</td>\n",
       "      <td>12.0</td>\n",
       "    </tr>\n",
       "    <tr>\n",
       "      <th>52559</th>\n",
       "      <td>20211231_2350-0000</td>\n",
       "      <td>0.0</td>\n",
       "      <td>2.0</td>\n",
       "      <td>3.0</td>\n",
       "      <td>16.0</td>\n",
       "    </tr>\n",
       "  </tbody>\n",
       "</table>\n",
       "<p>52560 rows × 5 columns</p>\n",
       "</div>"
      ],
      "text/plain": [
       "                Timestamp  Svr_detect  Svr_connect  Ss_request  Ss_Established\n",
       "0      20210101_0000-0010         0.0          0.0         5.0             8.0\n",
       "1      20210101_0010-0020         0.0          0.0         4.0            14.0\n",
       "2      20210101_0020-0030         0.0          0.0         1.0            10.0\n",
       "3      20210101_0030-0040         0.0          0.0         1.0            14.0\n",
       "4      20210101_0040-0050         0.0          0.0         2.0             9.0\n",
       "...                   ...         ...          ...         ...             ...\n",
       "52555  20211231_2310-2320         0.0          2.0         5.0            15.0\n",
       "52556  20211231_2320-2330         0.0          4.0         4.0            15.0\n",
       "52557  20211231_2330-2340         0.0          2.0         3.0            14.0\n",
       "52558  20211231_2340-2350         0.0          3.0         2.0            12.0\n",
       "52559  20211231_2350-0000         0.0          2.0         3.0            16.0\n",
       "\n",
       "[52560 rows x 5 columns]"
      ]
     },
     "execution_count": 3,
     "metadata": {},
     "output_type": "execute_result"
    }
   ],
   "source": [
    "data"
   ]
  },
  {
   "cell_type": "code",
   "execution_count": 4,
   "id": "78d17e6b",
   "metadata": {},
   "outputs": [],
   "source": [
    "data.fillna(method='ffill', inplace=True)"
   ]
  },
  {
   "cell_type": "code",
   "execution_count": 5,
   "id": "0f1c7707",
   "metadata": {},
   "outputs": [
    {
     "data": {
      "text/plain": [
       "0        0.000000\n",
       "1        0.000000\n",
       "2        0.000000\n",
       "3        0.000000\n",
       "4        0.000000\n",
       "           ...   \n",
       "52555    1.414214\n",
       "52556    2.000000\n",
       "52557    1.414214\n",
       "52558    1.732051\n",
       "52559    1.414214\n",
       "Name: Svr_connect, Length: 52560, dtype: float64"
      ]
     },
     "execution_count": 5,
     "metadata": {},
     "output_type": "execute_result"
    }
   ],
   "source": [
    "np.sqrt(data['Svr_connect'])"
   ]
  },
  {
   "cell_type": "code",
   "execution_count": 6,
   "id": "0f0cd7e5",
   "metadata": {},
   "outputs": [],
   "source": [
    "# data['Svr_error'] = np.sqrt(data['Svr_connect']) + np.sqrt(data['Ss_request']) + np.sqrt(data['Svr_detect'])\n",
    "data['Svr_error'] = data['Svr_connect'] + data['Ss_request'] + data['Svr_detect']\n",
    "# data2 = data\n",
    "# data2['Svr_error']= data['Svr_error'].map(lambda i: np.log(i) if i > 0 else 0)\n",
    "# data2['Ss_Established']= data['Ss_Established'].map(lambda i: np.log(i) if i > 0 else 0)"
   ]
  },
  {
   "cell_type": "code",
   "execution_count": 7,
   "id": "588d1ef6",
   "metadata": {},
   "outputs": [
    {
     "data": {
      "text/plain": [
       "array([  0,   1,   2, ...,  55,  60, 111], dtype=int64)"
      ]
     },
     "execution_count": 7,
     "metadata": {},
     "output_type": "execute_result"
    }
   ],
   "source": [
    "from sklearn.cluster import DBSCAN\n",
    "dbscan = DBSCAN(eps=0.5, min_samples=6)\n",
    "\n",
    "prediction = dbscan.fit_predict(data[['Svr_error', 'Ss_Established']])\n",
    "\n",
    "prediction"
   ]
  },
  {
   "cell_type": "code",
   "execution_count": 8,
   "id": "a5527c69",
   "metadata": {},
   "outputs": [
    {
     "data": {
      "text/html": [
       "<div>\n",
       "<style scoped>\n",
       "    .dataframe tbody tr th:only-of-type {\n",
       "        vertical-align: middle;\n",
       "    }\n",
       "\n",
       "    .dataframe tbody tr th {\n",
       "        vertical-align: top;\n",
       "    }\n",
       "\n",
       "    .dataframe thead th {\n",
       "        text-align: right;\n",
       "    }\n",
       "</style>\n",
       "<table border=\"1\" class=\"dataframe\">\n",
       "  <thead>\n",
       "    <tr style=\"text-align: right;\">\n",
       "      <th></th>\n",
       "      <th>dbscan</th>\n",
       "    </tr>\n",
       "  </thead>\n",
       "  <tbody>\n",
       "    <tr>\n",
       "      <th>0</th>\n",
       "      <td>0</td>\n",
       "    </tr>\n",
       "    <tr>\n",
       "      <th>1</th>\n",
       "      <td>1</td>\n",
       "    </tr>\n",
       "    <tr>\n",
       "      <th>2</th>\n",
       "      <td>2</td>\n",
       "    </tr>\n",
       "    <tr>\n",
       "      <th>3</th>\n",
       "      <td>3</td>\n",
       "    </tr>\n",
       "    <tr>\n",
       "      <th>4</th>\n",
       "      <td>4</td>\n",
       "    </tr>\n",
       "    <tr>\n",
       "      <th>...</th>\n",
       "      <td>...</td>\n",
       "    </tr>\n",
       "    <tr>\n",
       "      <th>52555</th>\n",
       "      <td>130</td>\n",
       "    </tr>\n",
       "    <tr>\n",
       "      <th>52556</th>\n",
       "      <td>305</td>\n",
       "    </tr>\n",
       "    <tr>\n",
       "      <th>52557</th>\n",
       "      <td>55</td>\n",
       "    </tr>\n",
       "    <tr>\n",
       "      <th>52558</th>\n",
       "      <td>60</td>\n",
       "    </tr>\n",
       "    <tr>\n",
       "      <th>52559</th>\n",
       "      <td>111</td>\n",
       "    </tr>\n",
       "  </tbody>\n",
       "</table>\n",
       "<p>52560 rows × 1 columns</p>\n",
       "</div>"
      ],
      "text/plain": [
       "       dbscan\n",
       "0           0\n",
       "1           1\n",
       "2           2\n",
       "3           3\n",
       "4           4\n",
       "...       ...\n",
       "52555     130\n",
       "52556     305\n",
       "52557      55\n",
       "52558      60\n",
       "52559     111\n",
       "\n",
       "[52560 rows x 1 columns]"
      ]
     },
     "execution_count": 8,
     "metadata": {},
     "output_type": "execute_result"
    }
   ],
   "source": [
    "pred = pd.DataFrame(columns=['dbscan'], data = prediction)\n",
    "pred"
   ]
  },
  {
   "cell_type": "code",
   "execution_count": 9,
   "id": "4d49b8cc",
   "metadata": {},
   "outputs": [
    {
     "data": {
      "text/plain": [
       "Int64Index([   19,    61,    82,   166,   187,   328,   898,  1034,  1273,\n",
       "             1526,\n",
       "            ...\n",
       "            51759, 51760, 51761, 51762, 51763, 51764, 51765, 51871, 52251,\n",
       "            52313],\n",
       "           dtype='int64', length=850)"
      ]
     },
     "execution_count": 9,
     "metadata": {},
     "output_type": "execute_result"
    }
   ],
   "source": [
    "out_idx = pred[pred['dbscan'] == -1].index\n",
    "out_idx"
   ]
  },
  {
   "cell_type": "code",
   "execution_count": 10,
   "id": "ee19248f",
   "metadata": {},
   "outputs": [
    {
     "data": {
      "text/plain": [
       "dbscan\n",
       "0         51710\n",
       "1           850\n",
       "dtype: int64"
      ]
     },
     "execution_count": 10,
     "metadata": {},
     "output_type": "execute_result"
    }
   ],
   "source": [
    "pred['dbscan'] = pred['dbscan'].map(lambda x : 1 if x == -1 else 0) \n",
    "pred.value_counts()\n"
   ]
  },
  {
   "cell_type": "code",
   "execution_count": 13,
   "id": "7cf4e8e9",
   "metadata": {},
   "outputs": [],
   "source": [
    "data = data[['Svr_error', 'Ss_Established']]"
   ]
  },
  {
   "cell_type": "code",
   "execution_count": 14,
   "id": "a0f63970",
   "metadata": {},
   "outputs": [
    {
     "name": "stdout",
     "output_type": "stream",
     "text": [
      "<class 'pandas.core.frame.DataFrame'>\n",
      "RangeIndex: 52560 entries, 0 to 52559\n",
      "Data columns (total 2 columns):\n",
      " #   Column          Non-Null Count  Dtype  \n",
      "---  ------          --------------  -----  \n",
      " 0   Svr_error       52560 non-null  float64\n",
      " 1   Ss_Established  52560 non-null  float64\n",
      "dtypes: float64(2)\n",
      "memory usage: 821.4 KB\n"
     ]
    }
   ],
   "source": [
    "data2 = data.reset_index()\n",
    "SS = StandardScaler()\n",
    "data_scaled = SS.fit_transform(data[['Svr_error', 'Ss_Established']])\n",
    "#SS.fit(data[['server_diff', 'client_diff','sum']])\n",
    "#data_scaled = SS.transform(data[['server_diff', 'client_diff','sum']]) # 넘파이 어레이로 나옴\n",
    "\n",
    "data_scaled = pd.DataFrame(data_scaled, columns=['Svr_error', 'Ss_Established'])\n",
    "\n",
    "data_scaled.info()"
   ]
  },
  {
   "cell_type": "code",
   "execution_count": 15,
   "id": "9f44251e",
   "metadata": {},
   "outputs": [
    {
     "data": {
      "text/html": [
       "<div>\n",
       "<style scoped>\n",
       "    .dataframe tbody tr th:only-of-type {\n",
       "        vertical-align: middle;\n",
       "    }\n",
       "\n",
       "    .dataframe tbody tr th {\n",
       "        vertical-align: top;\n",
       "    }\n",
       "\n",
       "    .dataframe thead th {\n",
       "        text-align: right;\n",
       "    }\n",
       "</style>\n",
       "<table border=\"1\" class=\"dataframe\">\n",
       "  <thead>\n",
       "    <tr style=\"text-align: right;\">\n",
       "      <th></th>\n",
       "      <th>Svr_error</th>\n",
       "      <th>Ss_Established</th>\n",
       "    </tr>\n",
       "  </thead>\n",
       "  <tbody>\n",
       "    <tr>\n",
       "      <th>0</th>\n",
       "      <td>0.043636</td>\n",
       "      <td>-0.494572</td>\n",
       "    </tr>\n",
       "    <tr>\n",
       "      <th>1</th>\n",
       "      <td>-0.040452</td>\n",
       "      <td>-0.135908</td>\n",
       "    </tr>\n",
       "    <tr>\n",
       "      <th>2</th>\n",
       "      <td>-0.292716</td>\n",
       "      <td>-0.375017</td>\n",
       "    </tr>\n",
       "    <tr>\n",
       "      <th>3</th>\n",
       "      <td>-0.292716</td>\n",
       "      <td>-0.135908</td>\n",
       "    </tr>\n",
       "    <tr>\n",
       "      <th>4</th>\n",
       "      <td>-0.208628</td>\n",
       "      <td>-0.434794</td>\n",
       "    </tr>\n",
       "    <tr>\n",
       "      <th>...</th>\n",
       "      <td>...</td>\n",
       "      <td>...</td>\n",
       "    </tr>\n",
       "    <tr>\n",
       "      <th>52555</th>\n",
       "      <td>0.211812</td>\n",
       "      <td>-0.076131</td>\n",
       "    </tr>\n",
       "    <tr>\n",
       "      <th>52556</th>\n",
       "      <td>0.295900</td>\n",
       "      <td>-0.076131</td>\n",
       "    </tr>\n",
       "    <tr>\n",
       "      <th>52557</th>\n",
       "      <td>0.043636</td>\n",
       "      <td>-0.135908</td>\n",
       "    </tr>\n",
       "    <tr>\n",
       "      <th>52558</th>\n",
       "      <td>0.043636</td>\n",
       "      <td>-0.255463</td>\n",
       "    </tr>\n",
       "    <tr>\n",
       "      <th>52559</th>\n",
       "      <td>0.043636</td>\n",
       "      <td>-0.016353</td>\n",
       "    </tr>\n",
       "  </tbody>\n",
       "</table>\n",
       "<p>52560 rows × 2 columns</p>\n",
       "</div>"
      ],
      "text/plain": [
       "       Svr_error  Ss_Established\n",
       "0       0.043636       -0.494572\n",
       "1      -0.040452       -0.135908\n",
       "2      -0.292716       -0.375017\n",
       "3      -0.292716       -0.135908\n",
       "4      -0.208628       -0.434794\n",
       "...          ...             ...\n",
       "52555   0.211812       -0.076131\n",
       "52556   0.295900       -0.076131\n",
       "52557   0.043636       -0.135908\n",
       "52558   0.043636       -0.255463\n",
       "52559   0.043636       -0.016353\n",
       "\n",
       "[52560 rows x 2 columns]"
      ]
     },
     "execution_count": 15,
     "metadata": {},
     "output_type": "execute_result"
    }
   ],
   "source": [
    "data_scaled"
   ]
  },
  {
   "cell_type": "code",
   "execution_count": 16,
   "id": "2b8318e5",
   "metadata": {},
   "outputs": [],
   "source": [
    "test = data_scaled[26064:]"
   ]
  },
  {
   "cell_type": "code",
   "execution_count": 17,
   "id": "e41cfe00",
   "metadata": {},
   "outputs": [
    {
     "data": {
      "text/html": [
       "<div>\n",
       "<style scoped>\n",
       "    .dataframe tbody tr th:only-of-type {\n",
       "        vertical-align: middle;\n",
       "    }\n",
       "\n",
       "    .dataframe tbody tr th {\n",
       "        vertical-align: top;\n",
       "    }\n",
       "\n",
       "    .dataframe thead th {\n",
       "        text-align: right;\n",
       "    }\n",
       "</style>\n",
       "<table border=\"1\" class=\"dataframe\">\n",
       "  <thead>\n",
       "    <tr style=\"text-align: right;\">\n",
       "      <th></th>\n",
       "      <th>Svr_error</th>\n",
       "      <th>Ss_Established</th>\n",
       "    </tr>\n",
       "  </thead>\n",
       "  <tbody>\n",
       "    <tr>\n",
       "      <th>0</th>\n",
       "      <td>0.043636</td>\n",
       "      <td>-0.494572</td>\n",
       "    </tr>\n",
       "    <tr>\n",
       "      <th>1</th>\n",
       "      <td>-0.040452</td>\n",
       "      <td>-0.135908</td>\n",
       "    </tr>\n",
       "    <tr>\n",
       "      <th>2</th>\n",
       "      <td>-0.292716</td>\n",
       "      <td>-0.375017</td>\n",
       "    </tr>\n",
       "    <tr>\n",
       "      <th>3</th>\n",
       "      <td>-0.292716</td>\n",
       "      <td>-0.135908</td>\n",
       "    </tr>\n",
       "    <tr>\n",
       "      <th>4</th>\n",
       "      <td>-0.208628</td>\n",
       "      <td>-0.434794</td>\n",
       "    </tr>\n",
       "    <tr>\n",
       "      <th>...</th>\n",
       "      <td>...</td>\n",
       "      <td>...</td>\n",
       "    </tr>\n",
       "    <tr>\n",
       "      <th>52555</th>\n",
       "      <td>0.211812</td>\n",
       "      <td>-0.076131</td>\n",
       "    </tr>\n",
       "    <tr>\n",
       "      <th>52556</th>\n",
       "      <td>0.295900</td>\n",
       "      <td>-0.076131</td>\n",
       "    </tr>\n",
       "    <tr>\n",
       "      <th>52557</th>\n",
       "      <td>0.043636</td>\n",
       "      <td>-0.135908</td>\n",
       "    </tr>\n",
       "    <tr>\n",
       "      <th>52558</th>\n",
       "      <td>0.043636</td>\n",
       "      <td>-0.255463</td>\n",
       "    </tr>\n",
       "    <tr>\n",
       "      <th>52559</th>\n",
       "      <td>0.043636</td>\n",
       "      <td>-0.016353</td>\n",
       "    </tr>\n",
       "  </tbody>\n",
       "</table>\n",
       "<p>51710 rows × 2 columns</p>\n",
       "</div>"
      ],
      "text/plain": [
       "       Svr_error  Ss_Established\n",
       "0       0.043636       -0.494572\n",
       "1      -0.040452       -0.135908\n",
       "2      -0.292716       -0.375017\n",
       "3      -0.292716       -0.135908\n",
       "4      -0.208628       -0.434794\n",
       "...          ...             ...\n",
       "52555   0.211812       -0.076131\n",
       "52556   0.295900       -0.076131\n",
       "52557   0.043636       -0.135908\n",
       "52558   0.043636       -0.255463\n",
       "52559   0.043636       -0.016353\n",
       "\n",
       "[51710 rows x 2 columns]"
      ]
     },
     "execution_count": 17,
     "metadata": {},
     "output_type": "execute_result"
    }
   ],
   "source": [
    "scaled_train = pd.DataFrame(columns=['Svr_error', 'Ss_Established'], data = data_scaled)\n",
    "scaled_train\n",
    "\n",
    "scaled_train.drop(out_idx, inplace = True)\n",
    "scaled_train"
   ]
  },
  {
   "cell_type": "code",
   "execution_count": 18,
   "id": "d42455a7",
   "metadata": {},
   "outputs": [
    {
     "name": "stdout",
     "output_type": "stream",
     "text": [
      "Not converged!\n",
      "Total error: 0.578121, allowed tolerance: 0.000001\n"
     ]
    }
   ],
   "source": [
    "from RobustPCA.rpca import RobustPCA\n",
    "\n",
    "rpca = RobustPCA()\n",
    "\n",
    "rpca.fit(scaled_train.to_numpy())\n",
    "L = rpca.get_low_rank()\n",
    "S = rpca.get_sparse()"
   ]
  },
  {
   "cell_type": "code",
   "execution_count": 19,
   "id": "4cf5fc39",
   "metadata": {},
   "outputs": [
    {
     "data": {
      "text/plain": [
       "array([[ 0.04076973, -0.43927207],\n",
       "       [-0.04042977, -0.13590453],\n",
       "       [-0.06980984, -0.37500489],\n",
       "       ...,\n",
       "       [ 0.0436048 , -0.13590247],\n",
       "       [ 0.04357717, -0.25545316],\n",
       "       [ 0.04360772, -0.01635185]])"
      ]
     },
     "execution_count": 19,
     "metadata": {},
     "output_type": "execute_result"
    }
   ],
   "source": [
    "L"
   ]
  },
  {
   "cell_type": "code",
   "execution_count": 20,
   "id": "a074a2de",
   "metadata": {},
   "outputs": [
    {
     "data": {
      "text/plain": [
       "<matplotlib.collections.PathCollection at 0x18a29acf5e0>"
      ]
     },
     "execution_count": 20,
     "metadata": {},
     "output_type": "execute_result"
    },
    {
     "data": {
      "image/png": "[encoded data removed]",
      "text/plain": [
       "<Figure size 432x288 with 1 Axes>"
      ]
     },
     "metadata": {
      "needs_background": "light"
     },
     "output_type": "display_data"
    }
   ],
   "source": [
    "plt.scatter(x = L[:,0], y= L[:,1])"
   ]
  },
  {
   "cell_type": "code",
   "execution_count": 21,
   "id": "1274c790",
   "metadata": {},
   "outputs": [
    {
     "data": {
      "text/plain": [
       "<matplotlib.collections.PathCollection at 0x18a33d8ae80>"
      ]
     },
     "execution_count": 21,
     "metadata": {},
     "output_type": "execute_result"
    },
    {
     "data": {
      "image/png": "[encoded data removed]",
      "text/plain": [
       "<Figure size 432x288 with 1 Axes>"
      ]
     },
     "metadata": {
      "needs_background": "light"
     },
     "output_type": "display_data"
    }
   ],
   "source": [
    "plt.scatter(x = S[:,0], y= S[:,1])"
   ]
  },
  {
   "cell_type": "code",
   "execution_count": 22,
   "id": "24c547d0",
   "metadata": {},
   "outputs": [
    {
     "data": {
      "text/plain": [
       "array([[ 2.86609745e-03, -5.52995467e-02],\n",
       "       [-0.00000000e+00, -0.00000000e+00],\n",
       "       [-2.22906182e-01, -0.00000000e+00],\n",
       "       ...,\n",
       "       [ 0.00000000e+00, -0.00000000e+00],\n",
       "       [ 5.86637267e-05, -0.00000000e+00],\n",
       "       [ 0.00000000e+00, -0.00000000e+00]])"
      ]
     },
     "execution_count": 22,
     "metadata": {},
     "output_type": "execute_result"
    }
   ],
   "source": [
    "S"
   ]
  },
  {
   "cell_type": "code",
   "execution_count": 23,
   "id": "c1bcb0a1",
   "metadata": {},
   "outputs": [],
   "source": [
    "from sklearn.model_selection import train_test_split\n",
    "from tensorflow.keras.optimizers import SGD\n",
    "from keras.callbacks import ModelCheckpoint, TensorBoard\n",
    "import tensorflow as tf"
   ]
  },
  {
   "cell_type": "code",
   "execution_count": 24,
   "id": "adbe881f",
   "metadata": {},
   "outputs": [
    {
     "name": "stdout",
     "output_type": "stream",
     "text": [
      "Model: \"model\"\n",
      "_________________________________________________________________\n",
      " Layer (type)                Output Shape              Param #   \n",
      "=================================================================\n",
      " input_1 (InputLayer)        [(None, 2)]               0         \n",
      "                                                                 \n",
      " dense (Dense)               (None, 8)                 24        \n",
      "                                                                 \n",
      " dense_1 (Dense)             (None, 4)                 36        \n",
      "                                                                 \n",
      " dense_2 (Dense)             (None, 8)                 40        \n",
      "                                                                 \n",
      " dense_3 (Dense)             (None, 2)                 18        \n",
      "                                                                 \n",
      "=================================================================\n",
      "Total params: 118\n",
      "Trainable params: 118\n",
      "Non-trainable params: 0\n",
      "_________________________________________________________________\n"
     ]
    }
   ],
   "source": [
    "nb_epoch = 200\n",
    "batch_size = 128\n",
    "input_dim = L.shape[1] #num of predictor variables, \n",
    "encoding_dim = 8\n",
    "hidden_dim = int(encoding_dim / 2)\n",
    "learning_rate = 1e-3\n",
    "drop_rate = 0.2\n",
    "\n",
    "input_layer = Input(shape=(input_dim, ))\n",
    "encoder = Dense(8, activation=\"selu\", activity_regularizer=regularizers.l1(learning_rate))(input_layer)\n",
    "# encoder = Dropout(drop_rate)(encoder)\n",
    "# encoder = BatchNormalization()(encoder)\n",
    "encoder = Dense(4, activation=\"selu\")(encoder)\n",
    "# encoder = BatchNormalization()(encoder)\n",
    "# encoder = Dropout(drop_rate)(encoder)\n",
    "decoder = Dense(8, activation=\"selu\")(encoder)\n",
    "# decoder = BatchNormalization()(decoder)\n",
    "decoder = Dense(input_dim, activation=\"linear\")(decoder)\n",
    "autoencoder = Model(inputs=input_layer, outputs=decoder)\n",
    "autoencoder.summary()"
   ]
  },
  {
   "cell_type": "code",
   "execution_count": 25,
   "id": "f614df2b",
   "metadata": {},
   "outputs": [],
   "source": [
    "df_train, df_valid = train_test_split(L, test_size=0.2, random_state=24)\n",
    "# df_test = data_scaled[26064:]"
   ]
  },
  {
   "cell_type": "code",
   "execution_count": 26,
   "id": "7fa3f1e9",
   "metadata": {},
   "outputs": [
    {
     "data": {
      "text/plain": [
       "(41368, 2)"
      ]
     },
     "execution_count": 26,
     "metadata": {},
     "output_type": "execute_result"
    }
   ],
   "source": [
    "np.shape(df_train)"
   ]
  },
  {
   "cell_type": "code",
   "execution_count": 693,
   "id": "37d00086",
   "metadata": {
    "scrolled": true
   },
   "outputs": [
    {
     "name": "stdout",
     "output_type": "stream",
     "text": [
      "Epoch 1/200\n",
      "  1/324 [..............................] - ETA: 1:35 - loss: 0.1303 - accuracy: 0.2109"
     ]
    },
    {
     "name": "stderr",
     "output_type": "stream",
     "text": [
      "2022-05-12 23:57:34.029638: I tensorflow/core/grappler/optimizers/custom_graph_optimizer_registry.cc:113] Plugin optimizer for device_type GPU is enabled.\n"
     ]
    },
    {
     "name": "stdout",
     "output_type": "stream",
     "text": [
      "322/324 [============================>.] - ETA: 0s - loss: 0.0099 - accuracy: 0.9403"
     ]
    },
    {
     "name": "stderr",
     "output_type": "stream",
     "text": [
      "2022-05-12 23:57:37.440439: I tensorflow/core/grappler/optimizers/custom_graph_optimizer_registry.cc:113] Plugin optimizer for device_type GPU is enabled.\n"
     ]
    },
    {
     "name": "stdout",
     "output_type": "stream",
     "text": [
      "324/324 [==============================] - 4s 12ms/step - loss: 0.0099 - accuracy: 0.9405 - val_loss: 0.0022 - val_accuracy: 0.9850\n",
      "Epoch 2/200\n",
      "324/324 [==============================] - 3s 10ms/step - loss: 0.0017 - accuracy: 0.9993 - val_loss: 0.0014 - val_accuracy: 1.0000\n",
      "Epoch 3/200\n",
      "324/324 [==============================] - 3s 10ms/step - loss: 0.0013 - accuracy: 1.0000 - val_loss: 0.0012 - val_accuracy: 1.0000\n",
      "Epoch 4/200\n",
      "324/324 [==============================] - 3s 10ms/step - loss: 0.0011 - accuracy: 1.0000 - val_loss: 0.0011 - val_accuracy: 1.0000\n",
      "Epoch 5/200\n",
      "324/324 [==============================] - 3s 10ms/step - loss: 0.0010 - accuracy: 1.0000 - val_loss: 9.8938e-04 - val_accuracy: 1.0000\n",
      "Epoch 6/200\n",
      "324/324 [==============================] - 3s 10ms/step - loss: 9.3465e-04 - accuracy: 1.0000 - val_loss: 8.8458e-04 - val_accuracy: 1.0000\n",
      "Epoch 7/200\n",
      "324/324 [==============================] - 3s 10ms/step - loss: 8.2999e-04 - accuracy: 1.0000 - val_loss: 7.7960e-04 - val_accuracy: 1.0000\n",
      "Epoch 8/200\n",
      "324/324 [==============================] - 3s 10ms/step - loss: 7.3251e-04 - accuracy: 1.0000 - val_loss: 6.9581e-04 - val_accuracy: 1.0000\n",
      "Epoch 9/200\n",
      "324/324 [==============================] - 3s 10ms/step - loss: 6.5643e-04 - accuracy: 0.9998 - val_loss: 6.2299e-04 - val_accuracy: 0.9909\n",
      "Epoch 10/200\n",
      "324/324 [==============================] - 3s 10ms/step - loss: 5.9321e-04 - accuracy: 0.9930 - val_loss: 5.6675e-04 - val_accuracy: 0.9909\n",
      "Epoch 11/200\n",
      "324/324 [==============================] - 3s 10ms/step - loss: 5.3609e-04 - accuracy: 0.9913 - val_loss: 5.0838e-04 - val_accuracy: 0.9909\n",
      "Epoch 12/200\n",
      "324/324 [==============================] - 3s 10ms/step - loss: 4.7983e-04 - accuracy: 0.9913 - val_loss: 4.5236e-04 - val_accuracy: 0.9909\n",
      "Epoch 13/200\n",
      "324/324 [==============================] - 3s 10ms/step - loss: 4.2350e-04 - accuracy: 0.9913 - val_loss: 3.9401e-04 - val_accuracy: 0.9909\n",
      "Epoch 14/200\n",
      "324/324 [==============================] - 3s 10ms/step - loss: 3.6386e-04 - accuracy: 0.9913 - val_loss: 3.3240e-04 - val_accuracy: 0.9909\n"
     ]
    }
   ],
   "source": [
    "autoencoder.compile(metrics=['accuracy'],\n",
    "                    loss='mean_squared_error',\n",
    "                    optimizer='adam')\n",
    "cp = ModelCheckpoint(filepath=\"PCA_drop3000_log.h5\",\n",
    "                               save_best_only=True,\n",
    "                               verbose=0)\n",
    "tb = TensorBoard(log_dir='./logs',\n",
    "                histogram_freq=0,\n",
    "                write_graph=True,\n",
    "                write_images=True)\n",
    "\n",
    "es = EarlyStopping(monitor='val_loss', patience=10,min_delta = 0.001)\n",
    "\n",
    "history = autoencoder.fit(df_train, df_train,\n",
    "                    epochs=nb_epoch,\n",
    "                    batch_size=batch_size,\n",
    "                    shuffle=True,\n",
    "                    verbose=1,\n",
    "                    validation_data=(df_valid, df_valid),\n",
    "                    callbacks=[cp, tb,es]).history"
   ]
  },
  {
   "cell_type": "code",
   "execution_count": 27,
   "id": "bfdd6066",
   "metadata": {},
   "outputs": [],
   "source": [
    "import tensorflow as tf\n",
    "autoencoder = tf.keras.models.load_model(\"IP_Best_rpca.h5\")"
   ]
  },
  {
   "cell_type": "code",
   "execution_count": 28,
   "id": "5a0537e8",
   "metadata": {},
   "outputs": [],
   "source": [
    "M = L + S\n",
    "test1 = M[26064:]\n",
    "test = data_scaled[26064:]"
   ]
  },
  {
   "cell_type": "code",
   "execution_count": 29,
   "id": "f850730f",
   "metadata": {},
   "outputs": [
    {
     "data": {
      "text/html": [
       "<div>\n",
       "<style scoped>\n",
       "    .dataframe tbody tr th:only-of-type {\n",
       "        vertical-align: middle;\n",
       "    }\n",
       "\n",
       "    .dataframe tbody tr th {\n",
       "        vertical-align: top;\n",
       "    }\n",
       "\n",
       "    .dataframe thead th {\n",
       "        text-align: right;\n",
       "    }\n",
       "</style>\n",
       "<table border=\"1\" class=\"dataframe\">\n",
       "  <thead>\n",
       "    <tr style=\"text-align: right;\">\n",
       "      <th></th>\n",
       "      <th>Svr_error</th>\n",
       "      <th>Ss_Established</th>\n",
       "    </tr>\n",
       "  </thead>\n",
       "  <tbody>\n",
       "    <tr>\n",
       "      <th>26064</th>\n",
       "      <td>-0.040452</td>\n",
       "      <td>0.043424</td>\n",
       "    </tr>\n",
       "    <tr>\n",
       "      <th>26065</th>\n",
       "      <td>-0.208628</td>\n",
       "      <td>0.342310</td>\n",
       "    </tr>\n",
       "    <tr>\n",
       "      <th>26066</th>\n",
       "      <td>-0.040452</td>\n",
       "      <td>0.402087</td>\n",
       "    </tr>\n",
       "    <tr>\n",
       "      <th>26067</th>\n",
       "      <td>-0.040452</td>\n",
       "      <td>0.043424</td>\n",
       "    </tr>\n",
       "    <tr>\n",
       "      <th>26068</th>\n",
       "      <td>0.043636</td>\n",
       "      <td>0.162978</td>\n",
       "    </tr>\n",
       "    <tr>\n",
       "      <th>...</th>\n",
       "      <td>...</td>\n",
       "      <td>...</td>\n",
       "    </tr>\n",
       "    <tr>\n",
       "      <th>52555</th>\n",
       "      <td>0.211812</td>\n",
       "      <td>-0.076131</td>\n",
       "    </tr>\n",
       "    <tr>\n",
       "      <th>52556</th>\n",
       "      <td>0.295900</td>\n",
       "      <td>-0.076131</td>\n",
       "    </tr>\n",
       "    <tr>\n",
       "      <th>52557</th>\n",
       "      <td>0.043636</td>\n",
       "      <td>-0.135908</td>\n",
       "    </tr>\n",
       "    <tr>\n",
       "      <th>52558</th>\n",
       "      <td>0.043636</td>\n",
       "      <td>-0.255463</td>\n",
       "    </tr>\n",
       "    <tr>\n",
       "      <th>52559</th>\n",
       "      <td>0.043636</td>\n",
       "      <td>-0.016353</td>\n",
       "    </tr>\n",
       "  </tbody>\n",
       "</table>\n",
       "<p>26496 rows × 2 columns</p>\n",
       "</div>"
      ],
      "text/plain": [
       "       Svr_error  Ss_Established\n",
       "26064  -0.040452        0.043424\n",
       "26065  -0.208628        0.342310\n",
       "26066  -0.040452        0.402087\n",
       "26067  -0.040452        0.043424\n",
       "26068   0.043636        0.162978\n",
       "...          ...             ...\n",
       "52555   0.211812       -0.076131\n",
       "52556   0.295900       -0.076131\n",
       "52557   0.043636       -0.135908\n",
       "52558   0.043636       -0.255463\n",
       "52559   0.043636       -0.016353\n",
       "\n",
       "[26496 rows x 2 columns]"
      ]
     },
     "execution_count": 29,
     "metadata": {},
     "output_type": "execute_result"
    }
   ],
   "source": [
    "test"
   ]
  },
  {
   "cell_type": "code",
   "execution_count": 30,
   "id": "4c7f7667",
   "metadata": {},
   "outputs": [
    {
     "data": {
      "text/html": [
       "<div>\n",
       "<style scoped>\n",
       "    .dataframe tbody tr th:only-of-type {\n",
       "        vertical-align: middle;\n",
       "    }\n",
       "\n",
       "    .dataframe tbody tr th {\n",
       "        vertical-align: top;\n",
       "    }\n",
       "\n",
       "    .dataframe thead th {\n",
       "        text-align: right;\n",
       "    }\n",
       "</style>\n",
       "<table border=\"1\" class=\"dataframe\">\n",
       "  <thead>\n",
       "    <tr style=\"text-align: right;\">\n",
       "      <th></th>\n",
       "      <th>Svr_error</th>\n",
       "      <th>Ss_Established</th>\n",
       "    </tr>\n",
       "  </thead>\n",
       "  <tbody>\n",
       "    <tr>\n",
       "      <th>26064</th>\n",
       "      <td>-0.040452</td>\n",
       "      <td>0.043424</td>\n",
       "    </tr>\n",
       "    <tr>\n",
       "      <th>26065</th>\n",
       "      <td>-0.208628</td>\n",
       "      <td>0.342310</td>\n",
       "    </tr>\n",
       "    <tr>\n",
       "      <th>26066</th>\n",
       "      <td>-0.040452</td>\n",
       "      <td>0.402087</td>\n",
       "    </tr>\n",
       "    <tr>\n",
       "      <th>26067</th>\n",
       "      <td>-0.040452</td>\n",
       "      <td>0.043424</td>\n",
       "    </tr>\n",
       "    <tr>\n",
       "      <th>26068</th>\n",
       "      <td>0.043636</td>\n",
       "      <td>0.162978</td>\n",
       "    </tr>\n",
       "    <tr>\n",
       "      <th>...</th>\n",
       "      <td>...</td>\n",
       "      <td>...</td>\n",
       "    </tr>\n",
       "    <tr>\n",
       "      <th>52555</th>\n",
       "      <td>0.211812</td>\n",
       "      <td>-0.076131</td>\n",
       "    </tr>\n",
       "    <tr>\n",
       "      <th>52556</th>\n",
       "      <td>0.295900</td>\n",
       "      <td>-0.076131</td>\n",
       "    </tr>\n",
       "    <tr>\n",
       "      <th>52557</th>\n",
       "      <td>0.043636</td>\n",
       "      <td>-0.135908</td>\n",
       "    </tr>\n",
       "    <tr>\n",
       "      <th>52558</th>\n",
       "      <td>0.043636</td>\n",
       "      <td>-0.255463</td>\n",
       "    </tr>\n",
       "    <tr>\n",
       "      <th>52559</th>\n",
       "      <td>0.043636</td>\n",
       "      <td>-0.016353</td>\n",
       "    </tr>\n",
       "  </tbody>\n",
       "</table>\n",
       "<p>26496 rows × 2 columns</p>\n",
       "</div>"
      ],
      "text/plain": [
       "       Svr_error  Ss_Established\n",
       "26064  -0.040452        0.043424\n",
       "26065  -0.208628        0.342310\n",
       "26066  -0.040452        0.402087\n",
       "26067  -0.040452        0.043424\n",
       "26068   0.043636        0.162978\n",
       "...          ...             ...\n",
       "52555   0.211812       -0.076131\n",
       "52556   0.295900       -0.076131\n",
       "52557   0.043636       -0.135908\n",
       "52558   0.043636       -0.255463\n",
       "52559   0.043636       -0.016353\n",
       "\n",
       "[26496 rows x 2 columns]"
      ]
     },
     "execution_count": 30,
     "metadata": {},
     "output_type": "execute_result"
    }
   ],
   "source": [
    "test"
   ]
  },
  {
   "cell_type": "code",
   "execution_count": 31,
   "id": "a0dfb4a6",
   "metadata": {},
   "outputs": [
    {
     "data": {
      "image/png": "[encoded data removed]",
      "text/plain": [
       "<Figure size 432x288 with 1 Axes>"
      ]
     },
     "metadata": {
      "needs_background": "light"
     },
     "output_type": "display_data"
    }
   ],
   "source": [
    "test_x_predictions = autoencoder.predict(test)\n",
    "mse = np.mean(np.power(test - test_x_predictions, 2), axis=1)\n",
    "error_df_test = pd.DataFrame({'Reconstruction_error': mse})\n",
    "error_df_test = error_df_test.reset_index()\n",
    "df2 = pd.DataFrame(mse)\n",
    "threshold_fixed = df2[0].quantile(.75) + ((df2[0].quantile(.75) - df2[0].quantile(.25))*100)\n",
    "threshold_fixed = 0.25\n",
    "fig, ax = plt.subplots()\n",
    "ax.plot(error_df_test.index, mse, marker='o', ms=3.5, linestyle='')\n",
    "ax.hlines(threshold_fixed, ax.get_xlim()[0], ax.get_xlim()[1], colors=\"r\", zorder=100, label='Threshold')\n",
    "ax.legend()\n",
    "plt.title(\"Reconstruction error for different classes\")\n",
    "plt.ylabel(\"Reconstruction error\")\n",
    "plt.xlabel(\"Data point index\")\n",
    "plt.show();"
   ]
  },
  {
   "cell_type": "code",
   "execution_count": 32,
   "id": "bb083715",
   "metadata": {},
   "outputs": [
    {
     "data": {
      "text/plain": [
       "0.07401538069300326"
      ]
     },
     "execution_count": 32,
     "metadata": {},
     "output_type": "execute_result"
    }
   ],
   "source": [
    "df2[0].quantile(.75) + ((df2[0].quantile(.75) - df2[0].quantile(.25))*100)"
   ]
  },
  {
   "cell_type": "code",
   "execution_count": 33,
   "id": "5f36bb88",
   "metadata": {},
   "outputs": [],
   "source": [
    "from sklearn.metrics import confusion_matrix, precision_recall_curve"
   ]
  },
  {
   "cell_type": "code",
   "execution_count": 34,
   "id": "48658fa1",
   "metadata": {},
   "outputs": [],
   "source": [
    "pred_y = [1 if e > threshold_fixed else 0 for e in mse] #예측"
   ]
  },
  {
   "cell_type": "code",
   "execution_count": 37,
   "id": "1ccf50c4",
   "metadata": {},
   "outputs": [
    {
     "data": {
      "text/plain": [
       "{0: 26345, 1: 151}"
      ]
     },
     "execution_count": 37,
     "metadata": {},
     "output_type": "execute_result"
    }
   ],
   "source": [
    "unique, counts = np.unique(pred_y, return_counts=True)\n",
    "dict(zip(unique, counts))"
   ]
  },
  {
   "cell_type": "code",
   "execution_count": 40,
   "id": "9cffff41",
   "metadata": {},
   "outputs": [
    {
     "data": {
      "text/html": [
       "<div>\n",
       "<style scoped>\n",
       "    .dataframe tbody tr th:only-of-type {\n",
       "        vertical-align: middle;\n",
       "    }\n",
       "\n",
       "    .dataframe tbody tr th {\n",
       "        vertical-align: top;\n",
       "    }\n",
       "\n",
       "    .dataframe thead th {\n",
       "        text-align: right;\n",
       "    }\n",
       "</style>\n",
       "<table border=\"1\" class=\"dataframe\">\n",
       "  <thead>\n",
       "    <tr style=\"text-align: right;\">\n",
       "      <th></th>\n",
       "      <th>Prediction</th>\n",
       "    </tr>\n",
       "  </thead>\n",
       "  <tbody>\n",
       "    <tr>\n",
       "      <th>0</th>\n",
       "      <td>0</td>\n",
       "    </tr>\n",
       "    <tr>\n",
       "      <th>1</th>\n",
       "      <td>0</td>\n",
       "    </tr>\n",
       "    <tr>\n",
       "      <th>2</th>\n",
       "      <td>0</td>\n",
       "    </tr>\n",
       "    <tr>\n",
       "      <th>3</th>\n",
       "      <td>0</td>\n",
       "    </tr>\n",
       "    <tr>\n",
       "      <th>4</th>\n",
       "      <td>0</td>\n",
       "    </tr>\n",
       "    <tr>\n",
       "      <th>...</th>\n",
       "      <td>...</td>\n",
       "    </tr>\n",
       "    <tr>\n",
       "      <th>26491</th>\n",
       "      <td>0</td>\n",
       "    </tr>\n",
       "    <tr>\n",
       "      <th>26492</th>\n",
       "      <td>0</td>\n",
       "    </tr>\n",
       "    <tr>\n",
       "      <th>26493</th>\n",
       "      <td>0</td>\n",
       "    </tr>\n",
       "    <tr>\n",
       "      <th>26494</th>\n",
       "      <td>0</td>\n",
       "    </tr>\n",
       "    <tr>\n",
       "      <th>26495</th>\n",
       "      <td>0</td>\n",
       "    </tr>\n",
       "  </tbody>\n",
       "</table>\n",
       "<p>26496 rows × 1 columns</p>\n",
       "</div>"
      ],
      "text/plain": [
       "       Prediction\n",
       "0               0\n",
       "1               0\n",
       "2               0\n",
       "3               0\n",
       "4               0\n",
       "...           ...\n",
       "26491           0\n",
       "26492           0\n",
       "26493           0\n",
       "26494           0\n",
       "26495           0\n",
       "\n",
       "[26496 rows x 1 columns]"
      ]
     },
     "execution_count": 40,
     "metadata": {},
     "output_type": "execute_result"
    }
   ],
   "source": [
    "answer = pd.DataFrame(columns=['Prediction'],data=pred_y)\n",
    "answer"
   ]
  },
  {
   "cell_type": "code",
   "execution_count": 41,
   "id": "2c230cbb",
   "metadata": {},
   "outputs": [
    {
     "data": {
      "text/html": [
       "<div>\n",
       "<style scoped>\n",
       "    .dataframe tbody tr th:only-of-type {\n",
       "        vertical-align: middle;\n",
       "    }\n",
       "\n",
       "    .dataframe tbody tr th {\n",
       "        vertical-align: top;\n",
       "    }\n",
       "\n",
       "    .dataframe thead th {\n",
       "        text-align: right;\n",
       "    }\n",
       "</style>\n",
       "<table border=\"1\" class=\"dataframe\">\n",
       "  <thead>\n",
       "    <tr style=\"text-align: right;\">\n",
       "      <th></th>\n",
       "      <th>Prediction</th>\n",
       "    </tr>\n",
       "  </thead>\n",
       "  <tbody>\n",
       "    <tr>\n",
       "      <th>0</th>\n",
       "      <td>0</td>\n",
       "    </tr>\n",
       "    <tr>\n",
       "      <th>1</th>\n",
       "      <td>0</td>\n",
       "    </tr>\n",
       "    <tr>\n",
       "      <th>2</th>\n",
       "      <td>0</td>\n",
       "    </tr>\n",
       "    <tr>\n",
       "      <th>3</th>\n",
       "      <td>0</td>\n",
       "    </tr>\n",
       "    <tr>\n",
       "      <th>4</th>\n",
       "      <td>0</td>\n",
       "    </tr>\n",
       "    <tr>\n",
       "      <th>...</th>\n",
       "      <td>...</td>\n",
       "    </tr>\n",
       "    <tr>\n",
       "      <th>26491</th>\n",
       "      <td>0</td>\n",
       "    </tr>\n",
       "    <tr>\n",
       "      <th>26492</th>\n",
       "      <td>0</td>\n",
       "    </tr>\n",
       "    <tr>\n",
       "      <th>26493</th>\n",
       "      <td>0</td>\n",
       "    </tr>\n",
       "    <tr>\n",
       "      <th>26494</th>\n",
       "      <td>0</td>\n",
       "    </tr>\n",
       "    <tr>\n",
       "      <th>26495</th>\n",
       "      <td>0</td>\n",
       "    </tr>\n",
       "  </tbody>\n",
       "</table>\n",
       "<p>26496 rows × 1 columns</p>\n",
       "</div>"
      ],
      "text/plain": [
       "       Prediction\n",
       "0               0\n",
       "1               0\n",
       "2               0\n",
       "3               0\n",
       "4               0\n",
       "...           ...\n",
       "26491           0\n",
       "26492           0\n",
       "26493           0\n",
       "26494           0\n",
       "26495           0\n",
       "\n",
       "[26496 rows x 1 columns]"
      ]
     },
     "execution_count": 41,
     "metadata": {},
     "output_type": "execute_result"
    }
   ],
   "source": [
    "answer"
   ]
  },
  {
   "cell_type": "code",
   "execution_count": 42,
   "id": "55bda483",
   "metadata": {},
   "outputs": [],
   "source": [
    "a = answer[answer['Prediction'] == 1].index.tolist()"
   ]
  },
  {
   "cell_type": "code",
   "execution_count": 45,
   "id": "6be16b81",
   "metadata": {},
   "outputs": [
    {
     "data": {
      "text/html": [
       "<div>\n",
       "<style scoped>\n",
       "    .dataframe tbody tr th:only-of-type {\n",
       "        vertical-align: middle;\n",
       "    }\n",
       "\n",
       "    .dataframe tbody tr th {\n",
       "        vertical-align: top;\n",
       "    }\n",
       "\n",
       "    .dataframe thead th {\n",
       "        text-align: right;\n",
       "    }\n",
       "</style>\n",
       "<table border=\"1\" class=\"dataframe\">\n",
       "  <thead>\n",
       "    <tr style=\"text-align: right;\">\n",
       "      <th></th>\n",
       "      <th>Unnamed: 0</th>\n",
       "      <th>Prediction</th>\n",
       "    </tr>\n",
       "  </thead>\n",
       "  <tbody>\n",
       "    <tr>\n",
       "      <th>0</th>\n",
       "      <td>0</td>\n",
       "      <td>0</td>\n",
       "    </tr>\n",
       "    <tr>\n",
       "      <th>1</th>\n",
       "      <td>1</td>\n",
       "      <td>0</td>\n",
       "    </tr>\n",
       "    <tr>\n",
       "      <th>2</th>\n",
       "      <td>2</td>\n",
       "      <td>0</td>\n",
       "    </tr>\n",
       "    <tr>\n",
       "      <th>3</th>\n",
       "      <td>3</td>\n",
       "      <td>0</td>\n",
       "    </tr>\n",
       "    <tr>\n",
       "      <th>4</th>\n",
       "      <td>4</td>\n",
       "      <td>0</td>\n",
       "    </tr>\n",
       "    <tr>\n",
       "      <th>...</th>\n",
       "      <td>...</td>\n",
       "      <td>...</td>\n",
       "    </tr>\n",
       "    <tr>\n",
       "      <th>26491</th>\n",
       "      <td>26491</td>\n",
       "      <td>0</td>\n",
       "    </tr>\n",
       "    <tr>\n",
       "      <th>26492</th>\n",
       "      <td>26492</td>\n",
       "      <td>0</td>\n",
       "    </tr>\n",
       "    <tr>\n",
       "      <th>26493</th>\n",
       "      <td>26493</td>\n",
       "      <td>0</td>\n",
       "    </tr>\n",
       "    <tr>\n",
       "      <th>26494</th>\n",
       "      <td>26494</td>\n",
       "      <td>0</td>\n",
       "    </tr>\n",
       "    <tr>\n",
       "      <th>26495</th>\n",
       "      <td>26495</td>\n",
       "      <td>0</td>\n",
       "    </tr>\n",
       "  </tbody>\n",
       "</table>\n",
       "<p>26496 rows × 2 columns</p>\n",
       "</div>"
      ],
      "text/plain": [
       "       Unnamed: 0  Prediction\n",
       "0               0           0\n",
       "1               1           0\n",
       "2               2           0\n",
       "3               3           0\n",
       "4               4           0\n",
       "...           ...         ...\n",
       "26491       26491           0\n",
       "26492       26492           0\n",
       "26493       26493           0\n",
       "26494       26494           0\n",
       "26495       26495           0\n",
       "\n",
       "[26496 rows x 2 columns]"
      ]
     },
     "execution_count": 45,
     "metadata": {},
     "output_type": "execute_result"
    }
   ],
   "source": [
    "b = pd.read_csv(\"이건뭐지.csv\")\n",
    "b"
   ]
  },
  {
   "cell_type": "code",
   "execution_count": 46,
   "id": "08d5ce69",
   "metadata": {},
   "outputs": [
    {
     "data": {
      "text/plain": [
       "Int64Index([   19,    20,    21,    22,    23,    26,    27,    28,    29,\n",
       "               30,\n",
       "            ...\n",
       "            23921, 24059, 24060, 24061, 24062, 25697, 25698, 25699, 25700,\n",
       "            25701],\n",
       "           dtype='int64', length=150)"
      ]
     },
     "execution_count": 46,
     "metadata": {},
     "output_type": "execute_result"
    }
   ],
   "source": [
    "b_idx = b[b['Prediction'] == 1].index\n",
    "b_idx"
   ]
  },
  {
   "cell_type": "code",
   "execution_count": 48,
   "id": "27928258",
   "metadata": {},
   "outputs": [
    {
     "name": "stdout",
     "output_type": "stream",
     "text": [
      "150\n"
     ]
    }
   ],
   "source": [
    "a = set(a)\n",
    "b_idx = set(b_idx)\n",
    "print(len(a.intersection(b_idx)))"
   ]
  },
  {
   "cell_type": "code",
   "execution_count": 71,
   "id": "35fbab88",
   "metadata": {},
   "outputs": [],
   "source": [
    "error_data = [19,\n",
    " 20,\n",
    " 21,\n",
    " 22,\n",
    " 23,\n",
    " 26,\n",
    " 27,\n",
    " 28,\n",
    " 29,\n",
    " 30,\n",
    " 31,\n",
    " 161,\n",
    " 162,\n",
    " 163,\n",
    " 167,\n",
    " 495,\n",
    " 496,\n",
    " 497,\n",
    " 498,\n",
    " 499,\n",
    " 500,\n",
    " 501,\n",
    " 502,\n",
    " 608,\n",
    " 609,\n",
    " 610,\n",
    " 611,\n",
    " 1503,\n",
    " 1504,\n",
    " 1505,\n",
    " 1506,\n",
    " 1507,\n",
    " 1508,\n",
    " 1509,\n",
    " 1510,\n",
    " 2512,\n",
    " 2513,\n",
    " 2514,\n",
    " 2515,\n",
    " 2516,\n",
    " 2517,\n",
    " 2518,\n",
    " 3521,\n",
    " 3522,\n",
    " 3523,\n",
    " 3524,\n",
    " 3525,\n",
    " 4245,\n",
    " 4383,\n",
    " 4386,\n",
    " 4387,\n",
    " 4388,\n",
    " 4389,\n",
    " 4528,\n",
    " 4529,\n",
    " 4530,\n",
    " 4531,\n",
    " 4532,\n",
    " 4533,\n",
    " 4534,\n",
    " 4959,\n",
    " 4960,\n",
    " 4961,\n",
    " 4962,\n",
    " 4963,\n",
    " 4964,\n",
    " 4965,\n",
    " 5070,\n",
    " 5102,\n",
    " 5103,\n",
    " 5104,\n",
    " 5105,\n",
    " 5106,\n",
    " 5107,\n",
    " 5108,\n",
    " 5109,\n",
    " 5198,\n",
    " 5245,\n",
    " 5246,\n",
    " 5247,\n",
    " 5248,\n",
    " 5249,\n",
    " 5250,\n",
    " 5251,\n",
    " 5252,\n",
    " 5253,\n",
    " 5390,\n",
    " 5392,\n",
    " 5393,\n",
    " 5394,\n",
    " 5395,\n",
    " 5396,\n",
    " 5397,\n",
    " 5536,\n",
    " 5537,\n",
    " 5538,\n",
    " 5539,\n",
    " 5540,\n",
    " 5541,\n",
    " 5542,\n",
    " 6543,\n",
    " 6544,\n",
    " 6545,\n",
    " 6546,\n",
    " 6547,\n",
    " 6548,\n",
    " 6549,\n",
    " 7554,\n",
    " 7555,\n",
    " 7556,\n",
    " 7557,\n",
    " 8561,\n",
    " 8562,\n",
    " 8563,\n",
    " 8564,\n",
    " 10021,\n",
    " 16021,\n",
    " 16022,\n",
    " 16165,\n",
    " 16740,\n",
    " 16780,\n",
    " 16781,\n",
    " 16886,\n",
    " 16887,\n",
    " 16933,\n",
    " 17028,\n",
    " 17029,\n",
    " 17634,\n",
    " 18039,\n",
    " 18761,\n",
    " 18762,\n",
    " 18951,\n",
    " 19265,\n",
    " 19910,\n",
    " 20269,\n",
    " 20270,\n",
    " 20276,\n",
    " 20816,\n",
    " 20920,\n",
    " 21822,\n",
    " 21995,\n",
    " 21996,\n",
    " 23917,\n",
    " 23918,\n",
    " 23919,\n",
    " 23920,\n",
    " 23921,\n",
    " 24059,\n",
    " 24060,\n",
    " 24061,\n",
    " 24062,\n",
    " 25697,\n",
    " 25698,\n",
    " 25699,\n",
    " 25700,\n",
    " 25701]"
   ]
  },
  {
   "cell_type": "code",
   "execution_count": null,
   "id": "a62b9a33",
   "metadata": {},
   "outputs": [],
   "source": []
  }
 ],
 "metadata": {
  "kernelspec": {
   "display_name": "Python 3 (ipykernel)",
   "language": "python",
   "name": "python3"
  },
  "language_info": {
   "codemirror_mode": {
    "name": "ipython",
    "version": 3
   },
   "file_extension": ".py",
   "mimetype": "text/x-python",
   "name": "python",
   "nbconvert_exporter": "python",
   "pygments_lexer": "ipython3",
   "version": "3.9.7"
  }
 },
 "nbformat": 4,
 "nbformat_minor": 5
}
